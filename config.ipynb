{
 "cells": [
  {
   "cell_type": "code",
   "execution_count": null,
   "id": "initial_id",
   "metadata": {
    "collapsed": true
   },
   "outputs": [],
   "source": [
    "\"\"\"\n",
    "어플리케이션 전체 설정 관리\n",
    "\"\"\"\n",
    "import os\n",
    "from pathlib import Path\n",
    "\n",
    "class Config:\n",
    "    \"\"\"앱 전체 설정 관리 클래스\"\"\"\n",
    "    def __init__(self):\n",
    "        # 기본 경로 설정 - 실행 위치 기준으로 상대 경로\n",
    "        base_dir = Path.cwd()\n",
    "\n",
    "        # 모델 관련 설정\n",
    "        self.model_path = \"yolov8n.pt\"  # 기본 YOLOv8 nano 모델\n",
    "\n",
    "        # 디렉토리 설정\n",
    "        self.input_dir = os.path.join(base_dir, \"input\")\n",
    "        self.output_dir = os.path.join(base_dir, \"output\")\n",
    "\n",
    "        # 입력/출력 디렉터리가 없으면 생성\n",
    "        Path(self.input_dir).mkdir(exist_ok=True)\n",
    "        Path(self.output_dir).mkdir(exist_ok=True)\n",
    "\n",
    "        # Kafka 설정\n",
    "        self.kafka_bootstrap_servers = \"localhost:9092\"\n",
    "        self.kafka_topic_name = \"image-tags\"\n",
    "\n",
    "        # 태그 매핑 정의 (YOLO 클래스 -> 내부 태그)\n",
    "        self.tag_mapping = {\n",
    "            \"person\": \"human\",\n",
    "            \"car\": \"vehicle\",\n",
    "            \"truck\": \"vehicle\",\n",
    "            \"bus\": \"vehicle\",\n",
    "            \"motorcycle\": \"vehicle\",\n",
    "            \"bicycle\": \"vehicle\",\n",
    "            \"dog\": \"animal\",\n",
    "            \"cat\": \"animal\",\n",
    "            \"horse\": \"animal\",\n",
    "            \"bird\": \"animal\",\n",
    "            \"boat\": \"transport\",\n",
    "            \"airplane\": \"transport\"\n",
    "        }"
   ]
  }
 ],
 "metadata": {
  "kernelspec": {
   "display_name": "Python 3",
   "language": "python",
   "name": "python3"
  },
  "language_info": {
   "codemirror_mode": {
    "name": "ipython",
    "version": 2
   },
   "file_extension": ".py",
   "mimetype": "text/x-python",
   "name": "python",
   "nbconvert_exporter": "python",
   "pygments_lexer": "ipython2",
   "version": "2.7.6"
  }
 },
 "nbformat": 4,
 "nbformat_minor": 5
}
